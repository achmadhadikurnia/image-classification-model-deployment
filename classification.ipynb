{
  "cells": [
    {
      "cell_type": "markdown",
      "metadata": {
        "id": "lZ2uZWaSghgK"
      },
      "source": [
        "# **Image Classification Model Deployment**"
      ]
    },
    {
      "cell_type": "markdown",
      "metadata": {
        "id": "pmieBFiALoDd"
      },
      "source": [
        "## Profile\n",
        "\n",
        "**Achmad Hadi Kurnia**\n",
        "\n",
        "Link [Dicoding](https://www.dicoding.com/users/achmadhadikurnia)"
      ]
    },
    {
      "cell_type": "markdown",
      "metadata": {
        "id": "j6xW90JML5Nn"
      },
      "source": [
        "## Kriteria\n",
        "- [x] Dataset yang akan dipakai bebas, namun minimal memiliki 1000 buah gambar.\n",
        "- [x] Dataset tidak pernah digunakan pada submission kelas machine learning sebelumnya.\n",
        "- [x] Dataset dibagi menjadi 80% train set dan 20% test set.\n",
        "- [x] Model harus menggunakan model sequential.\n",
        "- [x] Model harus menggunakan Conv2D Maxpooling Layer.\n",
        "- [x] Akurasi pada training dan validation set minimal sebesar 80%.\n",
        "- [x] Menggunakan Callback.\n",
        "- [x] Membuat plot terhadap akurasi dan loss model.\n",
        "- [x] Menulis kode untuk menyimpan model ke dalam format TF-Lite."
      ]
    },
    {
      "cell_type": "markdown",
      "metadata": {
        "id": "CmgL9JTC-Tmu"
      },
      "source": [
        "## Saran untuk Penilaian Lebih Tinggi\n",
        "- [x] Dataset yang digunakan berisi lebih dari 2000 gambar.\n",
        "- [x] Mengimplementasikan Callback.\n",
        "- [x] Gambar-gambar pada dataset memiliki resolusi yang tidak seragam."
      ]
    },
    {
      "cell_type": "markdown",
      "metadata": {
        "id": "kB9-rWXDPz2c"
      },
      "source": [
        "### 1. Setup Kebutuhan"
      ]
    },
    {
      "cell_type": "code",
      "execution_count": 1,
      "metadata": {
        "colab": {
          "base_uri": "https://localhost:8080/",
          "height": 297
        },
        "id": "dDKipWZ-2oto",
        "outputId": "0abc3be0-fdb9-441e-dfad-907cc8caa8cc"
      },
      "outputs": [
        {
          "output_type": "stream",
          "name": "stdout",
          "text": [
            "\n",
            "Installing packages\n",
            "Collecting split-folders\n",
            "  Downloading split_folders-0.5.1-py3-none-any.whl (8.4 kB)\n",
            "Installing collected packages: split-folders\n",
            "Successfully installed split-folders-0.5.1\n",
            "\n",
            "Upload credential\n"
          ]
        },
        {
          "output_type": "display_data",
          "data": {
            "text/plain": [
              "<IPython.core.display.HTML object>"
            ],
            "text/html": [
              "\n",
              "     <input type=\"file\" id=\"files-1be7f053-204e-4c11-bb96-d6a5d3b58be1\" name=\"files[]\" multiple disabled\n",
              "        style=\"border:none\" />\n",
              "     <output id=\"result-1be7f053-204e-4c11-bb96-d6a5d3b58be1\">\n",
              "      Upload widget is only available when the cell has been executed in the\n",
              "      current browser session. Please rerun this cell to enable.\n",
              "      </output>\n",
              "      <script>// Copyright 2017 Google LLC\n",
              "//\n",
              "// Licensed under the Apache License, Version 2.0 (the \"License\");\n",
              "// you may not use this file except in compliance with the License.\n",
              "// You may obtain a copy of the License at\n",
              "//\n",
              "//      http://www.apache.org/licenses/LICENSE-2.0\n",
              "//\n",
              "// Unless required by applicable law or agreed to in writing, software\n",
              "// distributed under the License is distributed on an \"AS IS\" BASIS,\n",
              "// WITHOUT WARRANTIES OR CONDITIONS OF ANY KIND, either express or implied.\n",
              "// See the License for the specific language governing permissions and\n",
              "// limitations under the License.\n",
              "\n",
              "/**\n",
              " * @fileoverview Helpers for google.colab Python module.\n",
              " */\n",
              "(function(scope) {\n",
              "function span(text, styleAttributes = {}) {\n",
              "  const element = document.createElement('span');\n",
              "  element.textContent = text;\n",
              "  for (const key of Object.keys(styleAttributes)) {\n",
              "    element.style[key] = styleAttributes[key];\n",
              "  }\n",
              "  return element;\n",
              "}\n",
              "\n",
              "// Max number of bytes which will be uploaded at a time.\n",
              "const MAX_PAYLOAD_SIZE = 100 * 1024;\n",
              "\n",
              "function _uploadFiles(inputId, outputId) {\n",
              "  const steps = uploadFilesStep(inputId, outputId);\n",
              "  const outputElement = document.getElementById(outputId);\n",
              "  // Cache steps on the outputElement to make it available for the next call\n",
              "  // to uploadFilesContinue from Python.\n",
              "  outputElement.steps = steps;\n",
              "\n",
              "  return _uploadFilesContinue(outputId);\n",
              "}\n",
              "\n",
              "// This is roughly an async generator (not supported in the browser yet),\n",
              "// where there are multiple asynchronous steps and the Python side is going\n",
              "// to poll for completion of each step.\n",
              "// This uses a Promise to block the python side on completion of each step,\n",
              "// then passes the result of the previous step as the input to the next step.\n",
              "function _uploadFilesContinue(outputId) {\n",
              "  const outputElement = document.getElementById(outputId);\n",
              "  const steps = outputElement.steps;\n",
              "\n",
              "  const next = steps.next(outputElement.lastPromiseValue);\n",
              "  return Promise.resolve(next.value.promise).then((value) => {\n",
              "    // Cache the last promise value to make it available to the next\n",
              "    // step of the generator.\n",
              "    outputElement.lastPromiseValue = value;\n",
              "    return next.value.response;\n",
              "  });\n",
              "}\n",
              "\n",
              "/**\n",
              " * Generator function which is called between each async step of the upload\n",
              " * process.\n",
              " * @param {string} inputId Element ID of the input file picker element.\n",
              " * @param {string} outputId Element ID of the output display.\n",
              " * @return {!Iterable<!Object>} Iterable of next steps.\n",
              " */\n",
              "function* uploadFilesStep(inputId, outputId) {\n",
              "  const inputElement = document.getElementById(inputId);\n",
              "  inputElement.disabled = false;\n",
              "\n",
              "  const outputElement = document.getElementById(outputId);\n",
              "  outputElement.innerHTML = '';\n",
              "\n",
              "  const pickedPromise = new Promise((resolve) => {\n",
              "    inputElement.addEventListener('change', (e) => {\n",
              "      resolve(e.target.files);\n",
              "    });\n",
              "  });\n",
              "\n",
              "  const cancel = document.createElement('button');\n",
              "  inputElement.parentElement.appendChild(cancel);\n",
              "  cancel.textContent = 'Cancel upload';\n",
              "  const cancelPromise = new Promise((resolve) => {\n",
              "    cancel.onclick = () => {\n",
              "      resolve(null);\n",
              "    };\n",
              "  });\n",
              "\n",
              "  // Wait for the user to pick the files.\n",
              "  const files = yield {\n",
              "    promise: Promise.race([pickedPromise, cancelPromise]),\n",
              "    response: {\n",
              "      action: 'starting',\n",
              "    }\n",
              "  };\n",
              "\n",
              "  cancel.remove();\n",
              "\n",
              "  // Disable the input element since further picks are not allowed.\n",
              "  inputElement.disabled = true;\n",
              "\n",
              "  if (!files) {\n",
              "    return {\n",
              "      response: {\n",
              "        action: 'complete',\n",
              "      }\n",
              "    };\n",
              "  }\n",
              "\n",
              "  for (const file of files) {\n",
              "    const li = document.createElement('li');\n",
              "    li.append(span(file.name, {fontWeight: 'bold'}));\n",
              "    li.append(span(\n",
              "        `(${file.type || 'n/a'}) - ${file.size} bytes, ` +\n",
              "        `last modified: ${\n",
              "            file.lastModifiedDate ? file.lastModifiedDate.toLocaleDateString() :\n",
              "                                    'n/a'} - `));\n",
              "    const percent = span('0% done');\n",
              "    li.appendChild(percent);\n",
              "\n",
              "    outputElement.appendChild(li);\n",
              "\n",
              "    const fileDataPromise = new Promise((resolve) => {\n",
              "      const reader = new FileReader();\n",
              "      reader.onload = (e) => {\n",
              "        resolve(e.target.result);\n",
              "      };\n",
              "      reader.readAsArrayBuffer(file);\n",
              "    });\n",
              "    // Wait for the data to be ready.\n",
              "    let fileData = yield {\n",
              "      promise: fileDataPromise,\n",
              "      response: {\n",
              "        action: 'continue',\n",
              "      }\n",
              "    };\n",
              "\n",
              "    // Use a chunked sending to avoid message size limits. See b/62115660.\n",
              "    let position = 0;\n",
              "    do {\n",
              "      const length = Math.min(fileData.byteLength - position, MAX_PAYLOAD_SIZE);\n",
              "      const chunk = new Uint8Array(fileData, position, length);\n",
              "      position += length;\n",
              "\n",
              "      const base64 = btoa(String.fromCharCode.apply(null, chunk));\n",
              "      yield {\n",
              "        response: {\n",
              "          action: 'append',\n",
              "          file: file.name,\n",
              "          data: base64,\n",
              "        },\n",
              "      };\n",
              "\n",
              "      let percentDone = fileData.byteLength === 0 ?\n",
              "          100 :\n",
              "          Math.round((position / fileData.byteLength) * 100);\n",
              "      percent.textContent = `${percentDone}% done`;\n",
              "\n",
              "    } while (position < fileData.byteLength);\n",
              "  }\n",
              "\n",
              "  // All done.\n",
              "  yield {\n",
              "    response: {\n",
              "      action: 'complete',\n",
              "    }\n",
              "  };\n",
              "}\n",
              "\n",
              "scope.google = scope.google || {};\n",
              "scope.google.colab = scope.google.colab || {};\n",
              "scope.google.colab._files = {\n",
              "  _uploadFiles,\n",
              "  _uploadFilesContinue,\n",
              "};\n",
              "})(self);\n",
              "</script> "
            ]
          },
          "metadata": {}
        },
        {
          "output_type": "stream",
          "name": "stdout",
          "text": [
            "Saving kaggle.json to kaggle.json\n",
            "\n",
            "Downloading dataset\n",
            "Downloading image-classification.zip to /content\n",
            "100% 2.34G/2.34G [01:29<00:00, 32.7MB/s]\n",
            "100% 2.34G/2.34G [01:29<00:00, 28.0MB/s]\n"
          ]
        }
      ],
      "source": [
        "# Installing packages\n",
        "print('\\nInstalling packages')\n",
        "!pip install -q kaggle\n",
        "!pip install split-folders\n",
        "\n",
        "# Impor libary\n",
        "import os\n",
        "import zipfile\n",
        "import tensorflow as tf\n",
        "import splitfolders as sf\n",
        "import matplotlib.pyplot as plt\n",
        "\n",
        "from google.colab import files\n",
        "from tensorflow.keras.preprocessing.image import ImageDataGenerator\n",
        "from tensorflow.keras.preprocessing import image\n",
        "from tensorflow.keras.applications import Xception\n",
        "from tensorflow.keras.models import Sequential\n",
        "from tensorflow.keras.layers import GlobalAveragePooling2D\n",
        "from tensorflow.keras.layers import Input\n",
        "from tensorflow.keras.layers import Conv2D\n",
        "from tensorflow.keras.layers import MaxPooling2D\n",
        "from tensorflow.keras.layers import Flatten\n",
        "from tensorflow.keras.layers import Dropout\n",
        "from tensorflow.keras.layers import Dense\n",
        "from PIL import Image\n",
        "\n",
        "%matplotlib inline\n",
        "\n",
        "# Upload credential\n",
        "print('\\nUpload credential')\n",
        "credential = files.upload()\n",
        "!chmod 600 /content/kaggle.json\n",
        "\n",
        "# Prepare dataset\n",
        "print('\\nDownloading dataset')\n",
        "! KAGGLE_CONFIG_DIR=/content/ kaggle datasets download -d duttadebadri/image-classification\n",
        "localZip = 'image-classification.zip'\n",
        "zipRef = zipfile.ZipFile(localZip, 'r')\n",
        "zipRef.extractall('image-classification')\n",
        "zipRef.close()"
      ]
    },
    {
      "cell_type": "markdown",
      "metadata": {
        "id": "OzyeV-_A_w6S"
      },
      "source": [
        "### 2. Menyiapkan data"
      ]
    },
    {
      "cell_type": "code",
      "execution_count": 3,
      "metadata": {
        "colab": {
          "base_uri": "https://localhost:8080/"
        },
        "id": "pzUMVPbjrToV",
        "outputId": "428ca700-a344-4fca-d8c0-cac084ddb47f"
      },
      "outputs": [
        {
          "output_type": "stream",
          "name": "stdout",
          "text": [
            "Deleting non .jpg files\n",
            "\n",
            "Directory dataset info\n",
            "Folder and its number of files:\n",
            "travel and  adventure [8800] files\n",
            "architecure [8763] files\n",
            "art and culture [7570] files\n",
            "food and d rinks [6744] files\n",
            "\n",
            "Total files in all folders: 31877\n",
            "Total folders (label): 4\n",
            "\n",
            "List various resolutions\n",
            "Size all images: 31877\n",
            "Size unique images: 4400\n",
            "First 8 unique images: ['550x410', '940x622', '1023x681', '784x1210', '1466x868', '1000x200', '290x414', '570x191']\n"
          ]
        }
      ],
      "source": [
        "dataset_path = 'image-classification/images/images'\n",
        "\n",
        "def delete_non_jpg_empty_files(directory_path):\n",
        "    for root, dirs, files in os.walk(directory_path):\n",
        "        for file in files:\n",
        "            file_path = os.path.join(root, file)\n",
        "\n",
        "            if (not file.lower().endswith('.jpg')) or (os.path.getsize(file_path) == 0):\n",
        "                print(f\"Deleting {file_path} as it's not a .jpg file or it's empty\")\n",
        "                os.remove(file_path)\n",
        "\n",
        "print('Deleting non .jpg files')\n",
        "delete_non_jpg_empty_files(dataset_path)\n",
        "\n",
        "def list_dirs_and_files(directory_path):\n",
        "    print('Folder and its number of files:')\n",
        "\n",
        "    folders = [folder for folder in os.listdir(directory_path) if os.path.isdir(os.path.join(directory_path, folder))]\n",
        "    total_files = 0\n",
        "    total_folders = len(folders)\n",
        "\n",
        "    for folder in folders:\n",
        "        folder_path = os.path.join(directory_path, folder)\n",
        "        files = [file for file in os.listdir(folder_path) if os.path.isfile(os.path.join(folder_path, file))]\n",
        "        file_count = len(files)\n",
        "        total_files += file_count\n",
        "        print(f\"{folder} [{file_count}] files\")\n",
        "\n",
        "    print(f\"\\nTotal files in all folders: {total_files}\")\n",
        "    print(f\"Total folders (label): {total_folders}\")\n",
        "\n",
        "print('\\nDirectory dataset info')\n",
        "list_dirs_and_files(dataset_path)\n",
        "\n",
        "def list_various_resolutions(directory):\n",
        "    folders = [folder for folder in os.listdir(directory) if os.path.isdir(os.path.join(directory, folder))]\n",
        "    image_sizes = []\n",
        "\n",
        "    for folder in folders:\n",
        "        folder_path = os.path.join(directory, folder)\n",
        "        for file in os.listdir(folder_path):\n",
        "            file_path = os.path.join(folder_path, file)\n",
        "            if os.path.isfile(file_path):\n",
        "                with Image.open(file_path) as image:\n",
        "                    width, height = image.size\n",
        "                    image_sizes.append(f'{width}x{height}')\n",
        "\n",
        "    unique_sizes = set(image_sizes)\n",
        "    first_size_unique = 8\n",
        "\n",
        "    print(f'Size all images: {len(image_sizes)}')\n",
        "    print(f'Size unique images: {len(unique_sizes)}')\n",
        "    print(f'First {first_size_unique} unique images: {list(unique_sizes)[:first_size_unique]}')\n",
        "\n",
        "print('\\nList various resolutions')\n",
        "list_various_resolutions(dataset_path)"
      ]
    },
    {
      "cell_type": "code",
      "execution_count": 4,
      "metadata": {
        "colab": {
          "base_uri": "https://localhost:8080/"
        },
        "id": "fKQuXRfQeiHx",
        "outputId": "23df7e31-ed99-4855-c41e-a92fbf81310e"
      },
      "outputs": [
        {
          "output_type": "stream",
          "name": "stderr",
          "text": [
            "Copying files: 31877 files [00:14, 2200.43 files/s]\n"
          ]
        }
      ],
      "source": [
        "image_dir = os.path.join('image-classification/image')\n",
        "\n",
        "sf.ratio(\n",
        "    dataset_path,\n",
        "    output = image_dir,\n",
        "    seed = None,\n",
        "    ratio = (0.8, 0.2),\n",
        ")"
      ]
    },
    {
      "cell_type": "markdown",
      "metadata": {
        "id": "xzYUe_jV_9Rf"
      },
      "source": [
        "### 3. Modeling"
      ]
    },
    {
      "cell_type": "code",
      "execution_count": 8,
      "metadata": {
        "colab": {
          "base_uri": "https://localhost:8080/"
        },
        "id": "lDBxOfyaK5PK",
        "outputId": "070ab897-6062-4c5a-dc10-cdf4c227476b"
      },
      "outputs": [
        {
          "output_type": "stream",
          "name": "stdout",
          "text": [
            "Found 25501 images belonging to 4 classes.\n",
            "Found 6376 images belonging to 4 classes.\n",
            "\n",
            "Model summary\n",
            "Model: \"sequential_1\"\n",
            "_________________________________________________________________\n",
            " Layer (type)                Output Shape              Param #   \n",
            "=================================================================\n",
            " conv2d_3 (Conv2D)           (None, 148, 148, 32)      896       \n",
            "                                                                 \n",
            " max_pooling2d_3 (MaxPoolin  (None, 74, 74, 32)        0         \n",
            " g2D)                                                            \n",
            "                                                                 \n",
            " conv2d_4 (Conv2D)           (None, 72, 72, 64)        18496     \n",
            "                                                                 \n",
            " max_pooling2d_4 (MaxPoolin  (None, 36, 36, 64)        0         \n",
            " g2D)                                                            \n",
            "                                                                 \n",
            " conv2d_5 (Conv2D)           (None, 34, 34, 128)       73856     \n",
            "                                                                 \n",
            " max_pooling2d_5 (MaxPoolin  (None, 17, 17, 128)       0         \n",
            " g2D)                                                            \n",
            "                                                                 \n",
            " flatten_1 (Flatten)         (None, 36992)             0         \n",
            "                                                                 \n",
            " dropout_1 (Dropout)         (None, 36992)             0         \n",
            "                                                                 \n",
            " dense_2 (Dense)             (None, 512)               18940416  \n",
            "                                                                 \n",
            " dense_3 (Dense)             (None, 4)                 2052      \n",
            "                                                                 \n",
            "=================================================================\n",
            "Total params: 19035716 (72.62 MB)\n",
            "Trainable params: 19035716 (72.62 MB)\n",
            "Non-trainable params: 0 (0.00 Byte)\n",
            "_________________________________________________________________\n",
            "\n",
            "Training process\n",
            "Epoch 1/64\n",
            "16/16 - 10s - loss: 1.6052 - accuracy: 0.3184 - val_loss: 1.2476 - val_accuracy: 0.3779 - 10s/epoch - 612ms/step\n",
            "Epoch 2/64\n",
            "16/16 - 8s - loss: 1.1931 - accuracy: 0.4316 - val_loss: 1.1070 - val_accuracy: 0.5137 - 8s/epoch - 516ms/step\n",
            "Epoch 3/64\n",
            "16/16 - 7s - loss: 1.0945 - accuracy: 0.5106 - val_loss: 1.0700 - val_accuracy: 0.5547 - 7s/epoch - 453ms/step\n",
            "Epoch 4/64\n",
            "16/16 - 7s - loss: 1.0542 - accuracy: 0.5391 - val_loss: 1.0667 - val_accuracy: 0.5898 - 7s/epoch - 452ms/step\n",
            "Epoch 5/64\n",
            "16/16 - 8s - loss: 1.0153 - accuracy: 0.5654 - val_loss: 1.0186 - val_accuracy: 0.5830 - 8s/epoch - 522ms/step\n",
            "Epoch 6/64\n",
            "16/16 - 8s - loss: 1.0022 - accuracy: 0.5723 - val_loss: 0.9341 - val_accuracy: 0.6045 - 8s/epoch - 471ms/step\n",
            "Epoch 7/64\n"
          ]
        },
        {
          "output_type": "stream",
          "name": "stderr",
          "text": [
            "/usr/local/lib/python3.10/dist-packages/PIL/TiffImagePlugin.py:858: UserWarning: Corrupt EXIF data.  Expecting to read 4 bytes but only got 0. \n",
            "  warnings.warn(str(msg))\n"
          ]
        },
        {
          "output_type": "stream",
          "name": "stdout",
          "text": [
            "16/16 - 7s - loss: 0.9843 - accuracy: 0.5732 - val_loss: 0.9390 - val_accuracy: 0.5996 - 7s/epoch - 420ms/step\n",
            "Epoch 8/64\n",
            "16/16 - 8s - loss: 0.9051 - accuracy: 0.6094 - val_loss: 0.9269 - val_accuracy: 0.6045 - 8s/epoch - 519ms/step\n",
            "Epoch 9/64\n",
            "16/16 - 6s - loss: 0.8634 - accuracy: 0.6455 - val_loss: 0.9371 - val_accuracy: 0.6025 - 6s/epoch - 403ms/step\n",
            "Epoch 10/64\n",
            "16/16 - 7s - loss: 0.8349 - accuracy: 0.6533 - val_loss: 0.7598 - val_accuracy: 0.7080 - 7s/epoch - 468ms/step\n",
            "Epoch 11/64\n",
            "16/16 - 9s - loss: 0.8440 - accuracy: 0.6738 - val_loss: 0.7368 - val_accuracy: 0.7451 - 9s/epoch - 544ms/step\n",
            "Epoch 12/64\n",
            "16/16 - 7s - loss: 0.7907 - accuracy: 0.6846 - val_loss: 0.7873 - val_accuracy: 0.6748 - 7s/epoch - 434ms/step\n",
            "Epoch 13/64\n",
            "16/16 - 8s - loss: 0.7115 - accuracy: 0.7119 - val_loss: 0.7917 - val_accuracy: 0.6748 - 8s/epoch - 513ms/step\n",
            "Epoch 14/64\n",
            "16/16 - 8s - loss: 0.7217 - accuracy: 0.7471 - val_loss: 0.6260 - val_accuracy: 0.7568 - 8s/epoch - 508ms/step\n",
            "Epoch 15/64\n",
            "16/16 - 9s - loss: 0.7502 - accuracy: 0.7119 - val_loss: 0.8319 - val_accuracy: 0.6631 - 9s/epoch - 578ms/step\n",
            "Epoch 16/64\n",
            "16/16 - 8s - loss: 0.6737 - accuracy: 0.7393 - val_loss: 0.6431 - val_accuracy: 0.7510 - 8s/epoch - 511ms/step\n",
            "Epoch 17/64\n",
            "16/16 - 8s - loss: 0.6028 - accuracy: 0.7725 - val_loss: 0.6351 - val_accuracy: 0.7607 - 8s/epoch - 477ms/step\n",
            "Epoch 18/64\n",
            "16/16 - 7s - loss: 0.7001 - accuracy: 0.7227 - val_loss: 0.7831 - val_accuracy: 0.6768 - 7s/epoch - 420ms/step\n",
            "Epoch 19/64\n",
            "16/16 - 6s - loss: 0.6572 - accuracy: 0.7578 - val_loss: 0.6247 - val_accuracy: 0.7549 - 6s/epoch - 376ms/step\n",
            "Epoch 20/64\n",
            "16/16 - 9s - loss: 0.6491 - accuracy: 0.7520 - val_loss: 0.6003 - val_accuracy: 0.7656 - 9s/epoch - 537ms/step\n",
            "Epoch 21/64\n",
            "16/16 - 9s - loss: 0.5511 - accuracy: 0.7793 - val_loss: 0.5785 - val_accuracy: 0.7822 - 9s/epoch - 544ms/step\n",
            "Epoch 22/64\n",
            "16/16 - 7s - loss: 0.6204 - accuracy: 0.7676 - val_loss: 0.6319 - val_accuracy: 0.7578 - 7s/epoch - 443ms/step\n",
            "Epoch 23/64\n",
            "16/16 - 7s - loss: 0.5820 - accuracy: 0.7744 - val_loss: 0.5934 - val_accuracy: 0.7686 - 7s/epoch - 457ms/step\n",
            "Epoch 24/64\n",
            "16/16 - 7s - loss: 0.6288 - accuracy: 0.7725 - val_loss: 0.6869 - val_accuracy: 0.7236 - 7s/epoch - 421ms/step\n",
            "Epoch 25/64\n",
            "16/16 - 9s - loss: 0.6003 - accuracy: 0.7910 - val_loss: 0.5475 - val_accuracy: 0.7988 - 9s/epoch - 532ms/step\n",
            "Epoch 26/64\n",
            "16/16 - 9s - loss: 0.5550 - accuracy: 0.8008 - val_loss: 0.6805 - val_accuracy: 0.7402 - 9s/epoch - 558ms/step\n",
            "Epoch 27/64\n",
            "16/16 - 9s - loss: 0.4994 - accuracy: 0.8154 - val_loss: 0.5375 - val_accuracy: 0.7930 - 9s/epoch - 563ms/step\n",
            "Epoch 28/64\n",
            "16/16 - 7s - loss: 0.5018 - accuracy: 0.7998 - val_loss: 0.5083 - val_accuracy: 0.8047 - 7s/epoch - 413ms/step\n",
            "Epoch 29/64\n",
            "\n",
            "Accuracy has reached 80%!\n",
            "16/16 - 7s - loss: 0.5225 - accuracy: 0.8105 - val_loss: 0.5509 - val_accuracy: 0.8027 - 7s/epoch - 440ms/step\n"
          ]
        }
      ],
      "source": [
        "train_dir = image_dir+'/train'\n",
        "val_dir = image_dir+'/val'\n",
        "label_size = len(os.listdir(val_dir))\n",
        "\n",
        "train_datagen = ImageDataGenerator(\n",
        "    rescale = 1./255,\n",
        "    rotation_range = 45,\n",
        "    width_shift_range = 0.2,\n",
        "    height_shift_range = 0.2,\n",
        "    shear_range = 0.2,\n",
        "    zoom_range = 0.2,\n",
        "    horizontal_flip = True,\n",
        "    vertical_flip = True,\n",
        "    fill_mode = 'nearest',\n",
        "    validation_split = 0.2,\n",
        ")\n",
        "\n",
        "val_datagen = ImageDataGenerator(\n",
        "    rescale = 1./255,\n",
        ")\n",
        "\n",
        "train_gen = train_datagen.flow_from_directory(\n",
        "    train_dir,\n",
        "    target_size = (150, 150),\n",
        "    batch_size = 64,\n",
        "    shuffle = True,\n",
        "    color_mode = 'rgb',\n",
        "    class_mode = 'categorical',\n",
        ")\n",
        "\n",
        "val_gen = val_datagen.flow_from_directory(\n",
        "    val_dir,\n",
        "    target_size = (150, 150),\n",
        "    batch_size = 64,\n",
        "    shuffle = True,\n",
        "    color_mode = 'rgb',\n",
        "    class_mode = 'categorical',\n",
        ")\n",
        "\n",
        "model = tf.keras.Sequential([\n",
        "    tf.keras.layers.Conv2D(32, (3, 3), activation='relu', input_shape=(150, 150, 3)),\n",
        "    tf.keras.layers.MaxPooling2D(2, 2),\n",
        "    tf.keras.layers.Conv2D(64, (3, 3), activation='relu'),\n",
        "    tf.keras.layers.MaxPooling2D(2, 2),\n",
        "    tf.keras.layers.Conv2D(128, (3, 3), activation='relu'),\n",
        "    tf.keras.layers.MaxPooling2D(2, 2),\n",
        "    tf.keras.layers.Flatten(),\n",
        "    tf.keras.layers.Dropout(0.5),\n",
        "    tf.keras.layers.Dense(512, activation='relu'),\n",
        "    tf.keras.layers.Dense(label_size, activation='softmax'),\n",
        "])\n",
        "\n",
        "learning_rate=0.001\n",
        "optimizer = 'adam'\n",
        "model.compile(\n",
        "    loss = 'categorical_crossentropy',\n",
        "    optimizer = optimizer,\n",
        "    metrics = ['accuracy'],\n",
        ")\n",
        "\n",
        "print('\\nModel summary')\n",
        "model.summary()\n",
        "\n",
        "class accuracyThresholdCallback(tf.keras.callbacks.Callback):\n",
        "    def on_epoch_end(self, epoch, logs={}):\n",
        "        if logs.get('accuracy') >= 0.92 and logs.get('val_accuracy') >= 0.92:\n",
        "            print(\"\\nAccuracy has reached 92%!\")\n",
        "            self.model.stop_training = True\n",
        "\n",
        "callbacks = accuracyThresholdCallback()\n",
        "\n",
        "print('\\nTraining process')\n",
        "epoch_number = 64\n",
        "history = model.fit(\n",
        "    train_gen,\n",
        "    epochs = epoch_number,\n",
        "    steps_per_epoch = 16,\n",
        "    validation_data = val_gen,\n",
        "    validation_steps = 16,\n",
        "    callbacks = [callbacks],\n",
        "    verbose = 2,\n",
        ")"
      ]
    },
    {
      "cell_type": "markdown",
      "metadata": {
        "id": "9ZUx0A-bdfNG"
      },
      "source": [
        "## 4. Plot"
      ]
    },
    {
      "cell_type": "code",
      "execution_count": 9,
      "metadata": {
        "colab": {
          "base_uri": "https://localhost:8080/",
          "height": 607
        },
        "id": "UQndG9jnFHFy",
        "outputId": "20f88992-9c47-4ca7-f373-6502aed1fe7f"
      },
      "outputs": [
        {
          "output_type": "display_data",
          "data": {
            "text/plain": [
              "<Figure size 1200x600 with 2 Axes>"
            ],
            "image/png": "[encoded data removed]"
          },
          "metadata": {}
        }
      ],
      "source": [
        "train_accuracy = history.history['accuracy']\n",
        "val_accuracy = history.history['val_accuracy']\n",
        "train_loss = history.history['loss']\n",
        "val_loss = history.history['val_loss']\n",
        "fig, axes = plt.subplots(1, 2, figsize=(12, 6))\n",
        "\n",
        "# Plot accuracy\n",
        "axes[0].plot(train_accuracy, label='Train Accuracy')\n",
        "axes[0].plot(val_accuracy, label='Validation Accuracy')\n",
        "axes[0].set_title('Model Accuracy')\n",
        "axes[0].set_xlabel('Epoch')\n",
        "axes[0].set_ylabel('Accuracy')\n",
        "axes[0].legend(loc='upper right')\n",
        "\n",
        "# Plot loss\n",
        "axes[1].plot(train_loss, label='Train Loss')\n",
        "axes[1].plot(val_loss, label='Validation Loss')\n",
        "axes[1].set_title('Model Lost')\n",
        "axes[1].set_xlabel('Epoch')\n",
        "axes[1].set_ylabel('Loss')\n",
        "axes[1].legend(loc='upper right')\n",
        "\n",
        "plt.tight_layout()\n",
        "plt.show()"
      ]
    },
    {
      "cell_type": "markdown",
      "source": [
        "## **Convert to TFLite**"
      ],
      "metadata": {
        "id": "SP4RiYz8KX-i"
      }
    },
    {
      "cell_type": "code",
      "source": [
        "converter = tf.lite.TFLiteConverter.from_keras_model(model)\n",
        "tflite_model = converter.convert()\n",
        "\n",
        "with tf.io.gfile.GFile(\"model.tflite\", \"wb\") as f:\n",
        "  f.write(tflite_model)"
      ],
      "metadata": {
        "id": "uZmAAtF9KZx6"
      },
      "execution_count": 10,
      "outputs": []
    }
  ],
  "metadata": {
    "accelerator": "GPU",
    "colab": {
      "provenance": []
    },
    "kernelspec": {
      "display_name": "Python 3",
      "name": "python3"
    },
    "language_info": {
      "name": "python"
    }
  },
  "nbformat": 4,
  "nbformat_minor": 0
}